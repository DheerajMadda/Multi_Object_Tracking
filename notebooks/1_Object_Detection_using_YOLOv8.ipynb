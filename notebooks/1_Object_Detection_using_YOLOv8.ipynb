{
 "cells": [
  {
   "cell_type": "code",
   "execution_count": null,
   "id": "f3989c90",
   "metadata": {},
   "outputs": [],
   "source": [
    "import os\n",
    "import torch\n",
    "import matplotlib.pyplot as plt"
   ]
  },
  {
   "cell_type": "code",
   "execution_count": null,
   "id": "8f043f70",
   "metadata": {},
   "outputs": [],
   "source": [
    "# must be run only once per session\n",
    "os.chdir(\"..\")"
   ]
  },
  {
   "cell_type": "code",
   "execution_count": null,
   "id": "8528d334",
   "metadata": {},
   "outputs": [],
   "source": [
    "from detectors import YoloV8\n",
    "from utils import DetectionRunner"
   ]
  },
  {
   "cell_type": "code",
   "execution_count": null,
   "id": "c79df877",
   "metadata": {},
   "outputs": [],
   "source": [
    "device = torch.device('cuda' if torch.cuda.is_available() else 'cpu')\n",
    "device, type(device)"
   ]
  },
  {
   "cell_type": "markdown",
   "id": "56593bec",
   "metadata": {},
   "source": [
    "## 1. Initialize object detector (YoloV8)"
   ]
  },
  {
   "cell_type": "code",
   "execution_count": null,
   "id": "0734934e",
   "metadata": {},
   "outputs": [],
   "source": [
    "detector = YoloV8(\n",
    "    weights=\"yolov8n.pt\",\n",
    "    conf_thres=0.45,\n",
    "    display_labels=True,\n",
    "    device=device\n",
    ")"
   ]
  },
  {
   "cell_type": "markdown",
   "id": "e94a0514",
   "metadata": {},
   "source": [
    "### 1.1. (Optional) Only detect specific classes"
   ]
  },
  {
   "cell_type": "code",
   "execution_count": null,
   "id": "25e76fbb",
   "metadata": {},
   "outputs": [],
   "source": [
    "#### view class mapping\n",
    "detector.class_names_dict"
   ]
  },
  {
   "cell_type": "code",
   "execution_count": null,
   "id": "86ec862a",
   "metadata": {},
   "outputs": [],
   "source": [
    "# (Optional) Only execute below line if want to detect only specific classes\n",
    "\n",
    "# e.g. detect only bicycles and cars\n",
    "detector.detect_classes(classes=[1, 2])"
   ]
  },
  {
   "cell_type": "markdown",
   "id": "c9af6be2",
   "metadata": {},
   "source": [
    "### 1.2. (Optional) Only detect in specific zone/ region"
   ]
  },
  {
   "cell_type": "code",
   "execution_count": null,
   "id": "e63470e9",
   "metadata": {},
   "outputs": [],
   "source": [
    "# (Optional) Only execute below lines if want to detect only in specific zones\n",
    "\n",
    "# define polygon zones (from start_pixel_location to end_pixel_location)\n",
    "zone1 = [\n",
    "    [145, 120],\n",
    "    [10, 295],\n",
    "    [360, 295],\n",
    "    [348, 203],\n",
    "    [320, 120]\n",
    "]\n",
    "\n",
    "zone2 = [\n",
    "    [506, 200],\n",
    "    [462, 238],\n",
    "    [390, 340],\n",
    "    [542, 340],\n",
    "    [588, 238],\n",
    "    [618, 200]\n",
    "]\n",
    "\n",
    "zones = [zone1, zone2]\n",
    "\n",
    "detector.detect_zones(\n",
    "    zones=zones,\n",
    "    frame_resolution_wh=(640, 360),\n",
    ")"
   ]
  },
  {
   "cell_type": "markdown",
   "id": "808002cb",
   "metadata": {},
   "source": [
    "# ----------------------------------------------------------------------------"
   ]
  },
  {
   "cell_type": "markdown",
   "id": "fff1bbf9",
   "metadata": {},
   "source": [
    "## 2. Run Detection"
   ]
  },
  {
   "cell_type": "code",
   "execution_count": null,
   "id": "9c15cdba",
   "metadata": {},
   "outputs": [],
   "source": [
    "detection_runner = DetectionRunner(detector)"
   ]
  },
  {
   "cell_type": "markdown",
   "id": "ee0cd921",
   "metadata": {},
   "source": [
    "detection_runner.run( </br>\n",
    "&emsp;source=source, &emsp;&emsp;&emsp;&emsp;&emsp;&emsp; # 0 for webcam; otherwise path to image/video/directory </br>\n",
    "&emsp;output=output, &emsp;&emsp;&emsp;&emsp;&emsp;&emsp; # optional; default_value=None. A output path to save an image or a video </br>\n",
    "&emsp;display=False, &emsp;&emsp;&emsp;&emsp;&emsp;&emsp;&emsp; # optional; default_value = False. Displays output in a window </br>\n",
    "&emsp;keyboard_interrupt_key=\"q\" &emsp; # optional; default_value = \"q\". A keyboard button to stop/quit running detection </br>\n",
    ")"
   ]
  },
  {
   "cell_type": "markdown",
   "id": "9bb32e0b",
   "metadata": {},
   "source": [
    "### 2.1. Run on image"
   ]
  },
  {
   "cell_type": "code",
   "execution_count": null,
   "id": "ebfcad42",
   "metadata": {},
   "outputs": [],
   "source": [
    "source = os.path.join(os.getcwd(), \"data\", \"inputs\", \"sample_image.png\")\n",
    "\n",
    "frame = detection_runner.run(source, display=False)\n",
    "plt.imshow(frame)"
   ]
  },
  {
   "cell_type": "markdown",
   "id": "90da117f",
   "metadata": {},
   "source": [
    "### 2.2. Run on sequence of images"
   ]
  },
  {
   "cell_type": "code",
   "execution_count": null,
   "id": "af5728b0",
   "metadata": {},
   "outputs": [],
   "source": [
    "source = os.path.join(os.getcwd(), \"data\", \"inputs\", \"sample_sequence\")\n",
    "save_output = os.path.join(os.getcwd(), \"data\", \"outputs\", \"detection\", \"det_output_sequence.avi\")\n",
    "\n",
    "detection_runner.run(source, save_output)"
   ]
  },
  {
   "cell_type": "markdown",
   "id": "f07719d4",
   "metadata": {},
   "source": [
    "### 2.3. Run on video"
   ]
  },
  {
   "cell_type": "code",
   "execution_count": null,
   "id": "4ffb5998",
   "metadata": {},
   "outputs": [],
   "source": [
    "source = os.path.join(os.getcwd(), \"data\", \"inputs\", \"sample_video.mp4\")\n",
    "save_output = os.path.join(os.getcwd(), \"data\", \"outputs\", \"detection\", \"det_output_video.avi\")\n",
    "\n",
    "detection_runner.run(source, save_output)"
   ]
  },
  {
   "cell_type": "markdown",
   "id": "45d94155",
   "metadata": {},
   "source": [
    "### 2.4. Run on webcam"
   ]
  },
  {
   "cell_type": "code",
   "execution_count": null,
   "id": "19c106e3",
   "metadata": {},
   "outputs": [],
   "source": [
    "# source = 0\n",
    "# save_output = os.path.join(os.getcwd(), \"data\", \"outputs\", \"detection\", \"det_output_webcam.avi\")\n",
    "\n",
    "# detection_runner.run(source, save_output)"
   ]
  }
 ],
 "metadata": {
  "kernelspec": {
   "display_name": "Python 3 (ipykernel)",
   "language": "python",
   "name": "python3"
  },
  "language_info": {
   "codemirror_mode": {
    "name": "ipython",
    "version": 3
   },
   "file_extension": ".py",
   "mimetype": "text/x-python",
   "name": "python",
   "nbconvert_exporter": "python",
   "pygments_lexer": "ipython3",
   "version": "3.9.0"
  }
 },
 "nbformat": 4,
 "nbformat_minor": 5
}
